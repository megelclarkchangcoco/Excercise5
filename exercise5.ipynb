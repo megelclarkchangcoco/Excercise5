{
  "cells": [
    {
      "cell_type": "markdown",
      "metadata": {
        "id": "-8bYOEC8HOQ4"
      },
      "source": [
        "# Exercise 5\n",
        "\n",
        "Please follow the instructions in each number."
      ]
    },
    {
      "cell_type": "markdown",
      "metadata": {
        "id": "FEPXLUAPHOQ6"
      },
      "source": [
        "### Maximum Subarray\n",
        "Given an array of integers nums, find the subarray with the largest sum and return the sum.\n",
        "\n",
        "A subarray is a contiguous non-empty sequence of elements within an array.\n",
        "\n",
        "\n",
        "\n",
        "Example 1:\n",
        "\n",
        "Input: nums = [2,-3,4,-2,2,1,-1,4]\n",
        "\n",
        "Output: 8\n",
        "\n",
        "Explanation: The subarray [4,-2,2,1,-1,4] has the largest sum 8."
      ]
    },
    {
      "cell_type": "markdown",
      "metadata": {
        "id": "D4a-4yS4HOQ7"
      },
      "source": [
        "## Tasks"
      ]
    },
    {
      "cell_type": "markdown",
      "metadata": {
        "id": "v8mlE6kYHOQ7"
      },
      "source": [
        "1. Put your student number in a list and manually compute the maximum subarray in your student number (`10 points`)"
      ]
    },
    {
      "cell_type": "code",
      "execution_count": 5,
      "metadata": {
        "vscode": {
          "languageId": "plaintext"
        },
        "id": "YJMIVpuTHOQ8"
      },
      "outputs": [],
      "source": []
    },
    {
      "cell_type": "markdown",
      "source": [
        "[1] => 1\n",
        "[1, 2] => 3\n",
        "[1,2,3] => 6\n",
        "[1,2,3,4] => 10\n",
        "[1,2,3,4,5] => 15\n",
        "[1,2,3,4,5,6] => 21\n",
        "[1,2,3,4,5,6,7] => 28\n",
        "[1,2,3,4,5,6,7,8] => 35\n",
        "[2] => 2\n",
        "[2,3] => 5\n",
        "[2,3,4] => 9\n",
        "[2,3,4,5,] =>14\n",
        "[2,3,4,5,6,] => 20\n",
        "[2,3,4,5,6,7] => 27\n",
        "[2,3,4,5,6,7,8] => 35\n",
        "[3] => 3\n",
        "[3, 4] => 7\n",
        "[3, 4, 5] => 12\n",
        "[3, 4, 5, 6] => 18\n",
        "[3, 4, 5, 6, 7] => 25\n",
        "[3, 4, 5, 6, 7, 8] => 33\n",
        "[4] => 4\n",
        "[4, 5] => 9\n",
        "[4, 5, 6] => 15\n",
        "[4, 5, 6, 7] => 22\n",
        "[4, 5, 6, 7, 8] => 30\n",
        "[5] => 5\n",
        "[5, 6] => 11\n",
        "[5, 6, 7] => 18\n",
        "[5, 6, 7, 8] => 26\n",
        "[6] => 6\n",
        "[6, 7] => 13\n",
        "[6, 7, 8] => 21\n",
        "[7] => 7\n",
        "[7, 8] => 15\n",
        "[8] => 8\n",
        "[1,2,3,4,5,6,7,8] => 36"
      ],
      "metadata": {
        "id": "bAhMCGQLjOeR"
      }
    },
    {
      "cell_type": "markdown",
      "source": [],
      "metadata": {
        "id": "cdD3XHP9hTHj"
      }
    },
    {
      "cell_type": "markdown",
      "metadata": {
        "id": "nchQgI2KHOQ8"
      },
      "source": [
        "2. Write a program using a brute-force approach to get the maximum-subarray of your student number (`40 points`)"
      ]
    },
    {
      "cell_type": "code",
      "execution_count": 3,
      "metadata": {
        "vscode": {
          "languageId": "plaintext"
        },
        "id": "b9P6oe11HOQ9",
        "outputId": "c20c99f9-ecfc-424e-e090-541ab1468d77",
        "colab": {
          "base_uri": "https://localhost:8080/"
        }
      },
      "outputs": [
        {
          "output_type": "stream",
          "name": "stdout",
          "text": [
            "Maximum subarray sum (brute-force approach): 36\n"
          ]
        }
      ],
      "source": [
        "def max_subarray_bruteforce(nums):\n",
        "    n = len(nums)\n",
        "    max_sum = float('-inf')\n",
        "    for i in range(n):\n",
        "      for j in range(i,n):\n",
        "        current_sum = sum(nums[i:j+1])\n",
        "        if current_sum > max_sum:\n",
        "            max_sum = current_sum\n",
        "    return max_sum\n",
        "\n",
        "student_number = [1,2,3,4,5,6,7,8]\n",
        "print(\"Maximum subarray sum (brute-force approach):\", max_subarray_bruteforce(student_number))"
      ]
    },
    {
      "cell_type": "markdown",
      "source": [],
      "metadata": {
        "id": "sApaMXLTh8cU"
      }
    },
    {
      "cell_type": "markdown",
      "metadata": {
        "id": "NkqAxIx_HOQ9"
      },
      "source": [
        "3. Write a program using a dynamic programming to get the maximum-subarray of your student number (`50 points`)"
      ]
    },
    {
      "cell_type": "code",
      "execution_count": 6,
      "metadata": {
        "vscode": {
          "languageId": "plaintext"
        },
        "id": "BFBp2ARLHOQ9",
        "outputId": "2eec83aa-9036-43d8-acb0-966881dc42ef",
        "colab": {
          "base_uri": "https://localhost:8080/"
        }
      },
      "outputs": [
        {
          "output_type": "stream",
          "name": "stdout",
          "text": [
            "Maximum subaaray sum (dynamic programming approach):  36\n"
          ]
        }
      ],
      "source": [
        "def max_subarray_kadane(nums):\n",
        "  max_current = max_global = nums[0]\n",
        "  for i in range(1, len(nums)):\n",
        "    max_current = max(nums[i], max_current + nums[i])\n",
        "    if max_current > max_global:\n",
        "      max_global = max_current\n",
        "  return max_global\n",
        "\n",
        "student_number = [1,2,3,4,5,6,7,8]\n",
        "print(\"Maximum subaaray sum (dynamic programming approach): \", max_subarray_kadane(student_number))"
      ]
    },
    {
      "cell_type": "markdown",
      "source": [],
      "metadata": {
        "id": "3qfjmes1jTq6"
      }
    }
  ],
  "metadata": {
    "colab": {
      "provenance": []
    },
    "kernelspec": {
      "display_name": "base",
      "language": "python",
      "name": "python3"
    },
    "language_info": {
      "codemirror_mode": {
        "name": "ipython",
        "version": 3
      },
      "file_extension": ".py",
      "mimetype": "text/x-python",
      "name": "python",
      "nbconvert_exporter": "python",
      "pygments_lexer": "ipython3",
      "version": "3.9.6"
    }
  },
  "nbformat": 4,
  "nbformat_minor": 0
}